{
 "cells": [
  {
   "cell_type": "markdown",
   "id": "d078f77c",
   "metadata": {},
   "source": [
    "# Fotoğraflardaki El Yazısını Yapay Zeka ile Otomatik Tanıma Yazılımı\n",
    "\n",
    "\n",
    "Projemizde kullanacağımız MNIST elyazısı rakamları veritabanında(sklearn içinde gelmektedir) 784 feature sütunu mevcut (784 dimensions), ve training set olarak 60,000 örnek veri ve a 10,000 örneklik test seti bulunmaktadır."
   ]
  },
  {
   "cell_type": "code",
   "execution_count": 1,
   "id": "742ab958",
   "metadata": {},
   "outputs": [],
   "source": [
    "import pandas as pd\n",
    "from matplotlib import pyplot as plt\n",
    "from sklearn.preprocessing import StandardScaler\n",
    "from sklearn.decomposition import PCA\n",
    "from sklearn.datasets import fetch_openml  # mnist datasetini yüklemek için gerekli...\n",
    "from sklearn.linear_model import LogisticRegression\n",
    "from sklearn.model_selection import train_test_split\n",
    "\n",
    "\n",
    "# Bu işlem 1-2 dk sürebilir..\n",
    "mnist = fetch_openml('mnist_784')"
   ]
  },
  {
   "cell_type": "code",
   "execution_count": null,
   "id": "60f723cc",
   "metadata": {},
   "outputs": [],
   "source": []
  },
  {
   "cell_type": "code",
   "execution_count": 2,
   "id": "865d4dce",
   "metadata": {},
   "outputs": [
    {
     "data": {
      "text/plain": [
       "(70000, 784)"
      ]
     },
     "execution_count": 2,
     "metadata": {},
     "output_type": "execute_result"
    }
   ],
   "source": [
    "mnist.data.shape"
   ]
  },
  {
   "cell_type": "code",
   "execution_count": 3,
   "id": "640cd21d",
   "metadata": {},
   "outputs": [],
   "source": [
    "# Parametre olarak dataframe ve ilgili veri fotoğrafının index numarasını alsın..\n",
    "def showimage(dframe, index):    \n",
    "    some_digit = dframe.to_numpy()[index]\n",
    "    some_digit_image = some_digit.reshape(28,28)\n",
    "\n",
    "    plt.imshow(some_digit_image,cmap=\"binary\")\n",
    "    plt.axis(\"off\")\n",
    "    plt.show()"
   ]
  },
  {
   "cell_type": "code",
   "execution_count": 4,
   "id": "c665d16b",
   "metadata": {},
   "outputs": [
    {
     "data": {
      "image/png": "[encoded data removed]",
      "text/plain": [
       "<Figure size 432x288 with 1 Axes>"
      ]
     },
     "metadata": {
      "needs_background": "light"
     },
     "output_type": "display_data"
    }
   ],
   "source": [
    "# Örnek kullanım:\n",
    "showimage(mnist.data, 0)"
   ]
  },
  {
   "cell_type": "markdown",
   "id": "a73b8173",
   "metadata": {},
   "source": [
    "### Split Data -> Training Set ve Test Set"
   ]
  },
  {
   "cell_type": "code",
   "execution_count": 6,
   "id": "c63f0f11",
   "metadata": {},
   "outputs": [],
   "source": [
    "# test ve train oranı 1/7 ve 6/7\n",
    "train_img, test_img, train_lbl, test_lbl = train_test_split( mnist.data, mnist.target, test_size=1/7.0, random_state=0)"
   ]
  },
  {
   "cell_type": "code",
   "execution_count": 7,
   "id": "6f25bbb0",
   "metadata": {},
   "outputs": [
    {
     "data": {
      "text/plain": [
       "pandas.core.frame.DataFrame"
      ]
     },
     "execution_count": 7,
     "metadata": {},
     "output_type": "execute_result"
    }
   ],
   "source": [
    "type(train_img)"
   ]
  },
  {
   "cell_type": "code",
   "execution_count": 8,
   "id": "f869d43c",
   "metadata": {},
   "outputs": [],
   "source": [
    "# Rakam tahminlerimizi check etmek için train_img dataframeini kopyalıyoruz, çünkü az sonra değişecek..\n",
    "test_img_copy = test_img.copy()"
   ]
  },
  {
   "cell_type": "code",
   "execution_count": 10,
   "id": "afb6e75a",
   "metadata": {},
   "outputs": [
    {
     "data": {
      "image/png": "[encoded data removed]",
      "text/plain": [
       "<Figure size 432x288 with 1 Axes>"
      ]
     },
     "metadata": {
      "needs_background": "light"
     },
     "output_type": "display_data"
    }
   ],
   "source": [
    "showimage(test_img_copy, 2)"
   ]
  },
  {
   "cell_type": "markdown",
   "id": "1d16bc83",
   "metadata": {},
   "source": [
    "### Verilerimizi Scale etmemiz gerekiyor:\n",
    "\n",
    "Çünkü PCA scale edilmemiş verilerde hatalı sonuçlar verebiliyor bu nedenle mutlaka scaling işleminden geçiriyoruz. \n",
    "Bu amaçla da StandardScaler kullanıyoruz..."
   ]
  },
  {
   "cell_type": "code",
   "execution_count": 24,
   "id": "a1b95252",
   "metadata": {},
   "outputs": [],
   "source": [
    "scaler = StandardScaler()\n",
    "\n",
    "# Scaler'ı sadece training set üzerinde fit yapmamız yeterli..\n",
    "scaler.fit(train_img)\n",
    "\n",
    "# Ama transform işlemini hem training sete hem de test sete yapmamız gerekiyor..\n",
    "train_img = scaler.transform(train_img)\n",
    "test_img = scaler.transform(test_img)"
   ]
  },
  {
   "cell_type": "markdown",
   "id": "3b9eb0a4",
   "metadata": {},
   "source": [
    "### PCA işlemini uyguluyoruz..\n",
    "\n",
    "Variance'ın 95% oranında korunmasını istediğimizi belirtiyoruz.."
   ]
  },
  {
   "cell_type": "code",
   "execution_count": 25,
   "id": "a88195e0",
   "metadata": {},
   "outputs": [],
   "source": [
    "# Make an instance of the Model\n",
    "pca = PCA(.95)"
   ]
  },
  {
   "cell_type": "code",
   "execution_count": 26,
   "id": "9b454df9",
   "metadata": {},
   "outputs": [
    {
     "data": {
      "text/plain": [
       "PCA(n_components=0.95)"
      ]
     },
     "execution_count": 26,
     "metadata": {},
     "output_type": "execute_result"
    }
   ],
   "source": [
    "# PCA'i sadece training sete yapmamız yeterli: (1 dk sürebilir)\n",
    "pca.fit(train_img)"
   ]
  },
  {
   "cell_type": "code",
   "execution_count": 27,
   "id": "2acb8285",
   "metadata": {},
   "outputs": [
    {
     "name": "stdout",
     "output_type": "stream",
     "text": [
      "327\n"
     ]
    }
   ],
   "source": [
    "# Bakalım 784 boyutu kaç boyuta düşürebilmiş (%95 variance'ı koruyarak tabiiki)\n",
    "print(pca.n_components_)"
   ]
  },
  {
   "cell_type": "code",
   "execution_count": 28,
   "id": "dfc1397f",
   "metadata": {},
   "outputs": [],
   "source": [
    "# Şimdi transform işlemiyle hem train hem de test veri setimizin boyutlarını 784'ten 327'e düşürelim:\n",
    "train_img = pca.transform(train_img)\n",
    "test_img = pca.transform(test_img)"
   ]
  },
  {
   "cell_type": "markdown",
   "id": "98342e16",
   "metadata": {},
   "source": [
    "## 2. Aşama\n",
    "\n",
    "Şimdi 2. Makine Öğrenmesi modelimiz olan Logistic Regression modelimizi PCA işleminden geçirilmiş veris etimiz üzerinde uygulayacağız."
   ]
  },
  {
   "cell_type": "code",
   "execution_count": 29,
   "id": "0b9fda27",
   "metadata": {},
   "outputs": [],
   "source": [
    "# default solver çok yavaş çalıştığı için daha hızlı olan 'lbfgs' solverı seçerek logisticregression nesnemizi oluşturuyoruz.\n",
    "logisticRegr = LogisticRegression(solver = 'lbfgs', max_iter=10000)"
   ]
  },
  {
   "cell_type": "code",
   "execution_count": 30,
   "id": "ebc37d98",
   "metadata": {},
   "outputs": [
    {
     "data": {
      "text/plain": [
       "LogisticRegression(max_iter=10000)"
      ]
     },
     "execution_count": 30,
     "metadata": {},
     "output_type": "execute_result"
    }
   ],
   "source": [
    "### LogisticRegression Modelimizi train datamızı kullanarak eğitiyoruz:\n",
    "# (Birkaç dk sürebilir)\n",
    "logisticRegr.fit(train_img, train_lbl)"
   ]
  },
  {
   "cell_type": "code",
   "execution_count": 32,
   "id": "e0538729",
   "metadata": {},
   "outputs": [
    {
     "data": {
      "text/plain": [
       "array(['0'], dtype=object)"
      ]
     },
     "execution_count": 32,
     "metadata": {},
     "output_type": "execute_result"
    }
   ],
   "source": [
    "\n",
    "logisticRegr.predict(test_img[0].reshape(1,-1))#### Modelimiz eğitildi şimdi el yazısı rakamları makine öğrenmesi ile tanıma işlemini gerçekletirelim:"
   ]
  },
  {
   "cell_type": "code",
   "execution_count": 33,
   "id": "f92d3a4e",
   "metadata": {},
   "outputs": [
    {
     "data": {
      "image/png": "[encoded data removed]",
      "text/plain": [
       "<Figure size 432x288 with 1 Axes>"
      ]
     },
     "metadata": {
      "needs_background": "light"
     },
     "output_type": "display_data"
    }
   ],
   "source": [
    "showimage(test_img_copy, 0)"
   ]
  },
  {
   "cell_type": "code",
   "execution_count": null,
   "id": "10b99737",
   "metadata": {},
   "outputs": [],
   "source": [
    "logisticRegr.predict(test_img[1].reshape(1,-1))"
   ]
  },
  {
   "cell_type": "code",
   "execution_count": 34,
   "id": "5c55143c",
   "metadata": {},
   "outputs": [
    {
     "data": {
      "image/png": "[encoded data removed]",
      "text/plain": [
       "<Figure size 432x288 with 1 Axes>"
      ]
     },
     "metadata": {
      "needs_background": "light"
     },
     "output_type": "display_data"
    }
   ],
   "source": [
    "showimage(test_img_copy, 1)"
   ]
  },
  {
   "cell_type": "code",
   "execution_count": null,
   "id": "63a78c36",
   "metadata": {},
   "outputs": [],
   "source": []
  }
 ],
 "metadata": {
  "kernelspec": {
   "display_name": "Python 3 (ipykernel)",
   "language": "python",
   "name": "python3"
  },
  "language_info": {
   "codemirror_mode": {
    "name": "ipython",
    "version": 3
   },
   "file_extension": ".py",
   "mimetype": "text/x-python",
   "name": "python",
   "nbconvert_exporter": "python",
   "pygments_lexer": "ipython3",
   "version": "3.9.12"
  }
 },
 "nbformat": 4,
 "nbformat_minor": 5
}
